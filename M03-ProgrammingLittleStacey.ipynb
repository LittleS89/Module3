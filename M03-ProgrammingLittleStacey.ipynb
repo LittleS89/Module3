{
 "cells": [
  {
   "cell_type": "code",
   "execution_count": null,
   "id": "eb56d1b7-9869-453b-9018-31fe5b472038",
   "metadata": {},
   "outputs": [],
   "source": [
    "# Stacey Little\n",
    "# SDEV220-50P: Module 3 - List and Functions\n",
    "# November 7th, 2024"
   ]
  },
  {
   "cell_type": "code",
   "execution_count": null,
   "id": "e975a2ba-e643-4e1f-9027-238b68695026",
   "metadata": {},
   "outputs": [],
   "source": [
    "# 7.4 Make a list called things with these three strings as elements:\n",
    "# \"mozzarella\", \"cinderella\", \"salmonella\".\n",
    "\n",
    "# created variable for list 'things' with the provided strings to input\n",
    "things = list(['mozzarella','cinderella','salmonella'])\n",
    "# print the list to make sure it shows each of the provided strings\n",
    "print (things)"
   ]
  },
  {
   "cell_type": "code",
   "execution_count": null,
   "id": "7f4400d6-0778-4349-9a9a-dd48edf301de",
   "metadata": {},
   "outputs": [],
   "source": [
    "# 7.5 Capitalize the element in things that refers to a person and then print the list.\n",
    "things[1] = things[1].capitalize()\n",
    "print(things)\n",
    "\n",
    "# Did it change the element in the list\n",
    "# Answer: Yes, by selecting which spot in the list (element 1 in this case),\n",
    "# it changes 'cinderella' to 'Cinderella' while leaving the rest lower case."
   ]
  },
  {
   "cell_type": "code",
   "execution_count": null,
   "id": "17ef7e63-fb0a-470a-a45a-1a6e796cb4f6",
   "metadata": {},
   "outputs": [],
   "source": [
    "# 7.6 Make the cheesy element of things all uppercase and then print the list.\n",
    "things[0] = things[0].upper()\n",
    "print(things)"
   ]
  },
  {
   "cell_type": "code",
   "execution_count": null,
   "id": "cb264175-bed2-4914-885b-0e20759d2f6e",
   "metadata": {},
   "outputs": [],
   "source": [
    "# 7.7 Delete the disease element from things,\n",
    "# collect your Nobel Prize, and print the list.\n",
    "things.remove('salmonella')\n",
    "print(things)\n",
    "print('In honor of this Nobel Prize, I would like to thank my mama. Her spaghetti is bomb.')"
   ]
  },
  {
   "cell_type": "code",
   "execution_count": null,
   "id": "365d1ba0-bafa-4f1a-9df4-326268051d96",
   "metadata": {},
   "outputs": [],
   "source": [
    "# 9.1 Define a function called good() that returns the following list: ['Harry', 'Ron', 'Hermione'].\n",
    "def good():\n",
    "    return ['Harry', 'Ron', 'Hermione']\n",
    "\n",
    "good()"
   ]
  },
  {
   "cell_type": "code",
   "execution_count": null,
   "id": "d55ca1a5-e864-4788-b263-e86cfb8ba1b1",
   "metadata": {},
   "outputs": [],
   "source": [
    "# 9.2 Define a generator function called get_odds() that returns the odd numbers from range(10).\n",
    "# Use a for loop to find and print the third value returned.\n",
    "def get_odds():\n",
    "    for number in range(1, 10, 2):\n",
    "        yield number\n",
    "\n",
    "count = 1\n",
    "for number in get_odds():\n",
    "    if count == 3:\n",
    "        print(\"The third odd number is\", number)\n",
    "        break\n",
    "    count += 1\n",
    "\n",
    "get_odds()"
   ]
  }
 ],
 "metadata": {
  "kernelspec": {
   "display_name": "Python 3 (ipykernel)",
   "language": "python",
   "name": "python3"
  },
  "language_info": {
   "codemirror_mode": {
    "name": "ipython",
    "version": 3
   },
   "file_extension": ".py",
   "mimetype": "text/x-python",
   "name": "python",
   "nbconvert_exporter": "python",
   "pygments_lexer": "ipython3",
   "version": "3.12.7"
  }
 },
 "nbformat": 4,
 "nbformat_minor": 5
}
