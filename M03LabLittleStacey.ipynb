{
 "cells": [
  {
   "cell_type": "code",
   "execution_count": null,
   "id": "09193cd8-b190-4d32-9743-fe591f6a65b8",
   "metadata": {},
   "outputs": [],
   "source": [
    "# Write a Python app that has the following classes:\n",
    "# A super class called Vehicle, which contains an attribute for vehicle type, such as car, truck, plane, boat, or a broomstick.\n",
    "# A class called Automobile which will inherit the attributes from Vehicle and also contain the following attributes:\n",
    "# year, make, model, doors (2 or 4), roof (solid or sun roof).\n",
    "\n",
    "class Vehicle: # create parent class Vehicle\n",
    "    def __init__(self, veh_type):\n",
    "        self.veh_type = input(\"Enter vehicle type: \") # get user input here\n",
    "\n",
    "class Automobile(Vehicle):\n",
    "    def __init__(self, veh_type, year, make, model, doors, roof):\n",
    "        super().__init__(veh_type)  # Call the parent class's __init__\n",
    "        self.year = input(\"Enter year: \") # user input here\n",
    "        self.make = input(\"Enter make: \") # user input here\n",
    "        self.model = input(\"Enter model: \") # user input here\n",
    "        self.doors = input(\"Enter number of doors: \") # user input here\n",
    "        self.roof = input(\"Enter roof option: \") # user input here\n",
    "\n",
    "# create the variable that will hold this attribute's data\n",
    "my_car = Automobile(\"\",\"\",\"\",\"\",\"\",\"\")\n",
    "\n",
    "# print the data that has been entered by the user\n",
    "print(\"Vehicle type is: \", my_car.veh_type)\n",
    "print(\"Year of \", my_car.veh_type, \"is \", my_car.year)\n",
    "print(\"Make of \", my_car.veh_type, \"is \", my_car.make)\n",
    "print(\"Model of \", my_car.veh_type, \"is \", my_car.model)\n",
    "print(\"Number of doors is \", my_car.doors)\n",
    "print(\"Roof option is \", my_car.roof)\n"
   ]
  }
 ],
 "metadata": {
  "kernelspec": {
   "display_name": "Python 3 (ipykernel)",
   "language": "python",
   "name": "python3"
  },
  "language_info": {
   "codemirror_mode": {
    "name": "ipython",
    "version": 3
   },
   "file_extension": ".py",
   "mimetype": "text/x-python",
   "name": "python",
   "nbconvert_exporter": "python",
   "pygments_lexer": "ipython3",
   "version": "3.12.7"
  }
 },
 "nbformat": 4,
 "nbformat_minor": 5
}
